{
  "metadata": {
    "language_info": {
      "codemirror_mode": {
        "name": "python",
        "version": 3
      },
      "file_extension": ".py",
      "mimetype": "text/x-python",
      "name": "python",
      "nbconvert_exporter": "python",
      "pygments_lexer": "ipython3",
      "version": "3.8"
    },
    "kernelspec": {
      "name": "python",
      "display_name": "Python (Pyodide)",
      "language": "python"
    }
  },
  "nbformat_minor": 4,
  "nbformat": 4,
  "cells": [
    {
      "cell_type": "code",
      "source": "#Q1. Type of Comments--------------------------------------------------------------",
      "metadata": {},
      "execution_count": null,
      "outputs": []
    },
    {
      "cell_type": "code",
      "source": "#fhgjfdgjksdfkjgsdf\n#kjhdfjdjkfsgkjsdfgjs\n#dfhjsdjfghsjkdfhsdkjf\n#kjdfnvkjsdfkjvsdkjvjsdvbsd\n#kjdfnjndfjvsjdvjsdbvsdjkbvjksdvksd\n#comments can be given in this way also",
      "metadata": {
        "trusted": true
      },
      "execution_count": 8,
      "outputs": []
    },
    {
      "cell_type": "code",
      "source": "#Single Line COmment",
      "metadata": {
        "trusted": true
      },
      "execution_count": 4,
      "outputs": [
        {
          "execution_count": 4,
          "output_type": "execute_result",
          "data": {
            "text/plain": "'\\nSame this comment can also be used for same reason\\n\\n'"
          },
          "metadata": {}
        }
      ]
    },
    {
      "cell_type": "code",
      "source": "'''\nMulti line comment\nyou can try this for\ndifferebt different lines\n'''",
      "metadata": {
        "trusted": true
      },
      "execution_count": 6,
      "outputs": [
        {
          "execution_count": 6,
          "output_type": "execute_result",
          "data": {
            "text/plain": "'\\nMulti line comment\\nyou can try this for\\ndifferebt different lines\\n'"
          },
          "metadata": {}
        }
      ]
    },
    {
      "cell_type": "code",
      "source": "\"\"\"\nSame this comment can also be used for same reason\n\"\"\"",
      "metadata": {
        "trusted": true
      },
      "execution_count": 5,
      "outputs": [
        {
          "execution_count": 5,
          "output_type": "execute_result",
          "data": {
            "text/plain": "'\\nSame this comment can also be used for same reason\\n\\n'"
          },
          "metadata": {}
        }
      ]
    },
    {
      "cell_type": "code",
      "source": "#Q2. Python VAriables?--------------------------------------------------------------",
      "metadata": {
        "trusted": true
      },
      "execution_count": 35,
      "outputs": []
    },
    {
      "cell_type": "code",
      "source": "\"\"\"\nPython Variable is containers that store values. \nA Python variable is a name given to a memory location. It is the basic unit of storage in a program.\n\"\"\"",
      "metadata": {
        "trusted": true
      },
      "execution_count": 10,
      "outputs": [
        {
          "execution_count": 10,
          "output_type": "execute_result",
          "data": {
            "text/plain": "'\\nPython VAriables?\\nPython Variable is containers that store values. \\nA Python variable is a name given to a memory location. It is the basic unit of storage in a program.\\n'"
          },
          "metadata": {}
        }
      ]
    },
    {
      "cell_type": "code",
      "source": "# valid variable name\nsharad = 1\nSharad123 = 2\nSH_AR_AD = 5\n_shar = 6\nShar_ = 7\n_SHARAD_ = 8\n \nprint(sharad, Sharad123, SH_AR_AD)\nprint(_shar, Shar_, _SHARAD_)",
      "metadata": {
        "trusted": true
      },
      "execution_count": 17,
      "outputs": [
        {
          "name": "stdout",
          "text": "1 2 5\n6 7 8\n",
          "output_type": "stream"
        }
      ]
    },
    {
      "cell_type": "code",
      "source": "#Q3. How do you convert one data type to another in Python?--------------------------------------------------------------",
      "metadata": {},
      "execution_count": null,
      "outputs": []
    },
    {
      "cell_type": "code",
      "source": "# Using Type Casting we can convert one data type to another\n\n\"\"\"\nTwo types of Type Casting Python Supports\n1. Implicit\na = 10\nb = 10.98\nc = \"A string to be print\"\nd = [1,2,3,4,5,6]\ne = {1,2,3,4,5,6}\nf = (1,2,3,4,5,6)\n\n2. Explicit\n\"\"\"",
      "metadata": {
        "trusted": true
      },
      "execution_count": 19,
      "outputs": [
        {
          "execution_count": 19,
          "output_type": "execute_result",
          "data": {
            "text/plain": "'\\nTwo types of Type Casting Python Supports\\n'"
          },
          "metadata": {}
        }
      ]
    },
    {
      "cell_type": "code",
      "source": "# Implicit Type Casting\na = 10\nb = 10.98\nc = a+b   #c will be automatically converted to float\nd = \"50\"\ne = [1,2,3,4,5,6]\nf = {1,2,3,4,5,6}\ng = (1,2,3,4,5,6)\nh = {}\ni = True\n\nl = [a,b,c,d,e,f,g,h,i]\nfor i in l:\n    print(type(i))",
      "metadata": {
        "trusted": true
      },
      "execution_count": 33,
      "outputs": [
        {
          "name": "stdout",
          "text": "<class 'int'>\n<class 'float'>\n<class 'float'>\n<class 'str'>\n<class 'list'>\n<class 'set'>\n<class 'tuple'>\n<class 'dict'>\n<class 'bool'>\n",
          "output_type": "stream"
        }
      ]
    },
    {
      "cell_type": "code",
      "source": "# Explicit Type Casting\nprint(int(b))\nprint(int(d))\nprint(int(i))",
      "metadata": {
        "trusted": true
      },
      "execution_count": 34,
      "outputs": [
        {
          "name": "stdout",
          "text": "10\n50\n1\n",
          "output_type": "stream"
        }
      ]
    },
    {
      "cell_type": "code",
      "source": "#Q4. How do you write and execute a Python script from the command line?--------------------------------------------------------------",
      "metadata": {
        "trusted": true
      },
      "execution_count": 36,
      "outputs": []
    },
    {
      "cell_type": "code",
      "source": "\"\"\"\nStep 1. Install Python\nStep 2. Set Environment Variables\nStep 3. Enter python interactive mode. open Command Prompt and type ‘python’ and press Enter.\nStep 4. Run Python commands in interactive mode\n\"\"\"",
      "metadata": {
        "trusted": true
      },
      "execution_count": 37,
      "outputs": [
        {
          "execution_count": 37,
          "output_type": "execute_result",
          "data": {
            "text/plain": "'\\nStep 1. Install Python\\nStep 2. Set Environment Variables\\nStep 3. Enter python interactive mode. open Command Prompt and type ‘python’ and press Enter.\\nStep 4. Run Python commands in interactive mode\\n'"
          },
          "metadata": {}
        }
      ]
    },
    {
      "cell_type": "code",
      "source": "#Q5. Given a list my_list = [1, 2, 3, 4, 5], write the code to slice the list and obtain the sub-list [2, 3].------------------------------------------",
      "metadata": {
        "trusted": true
      },
      "execution_count": 38,
      "outputs": []
    },
    {
      "cell_type": "code",
      "source": "my_list = [1, 2, 3, 4, 5]\nprint(my_list[1:3])",
      "metadata": {
        "trusted": true
      },
      "execution_count": 41,
      "outputs": [
        {
          "name": "stdout",
          "text": "[2, 3]\n",
          "output_type": "stream"
        }
      ]
    },
    {
      "cell_type": "code",
      "source": "#Q6. What is a complex number in mathematics, and how is it represented in Python?",
      "metadata": {},
      "execution_count": null,
      "outputs": []
    },
    {
      "cell_type": "code",
      "source": "\"\"\"\nComplex number are having Real and Imaginary part. In Mathematics complex number is represented by “ x + yi “. Where x is real and y is imaginary.\n\nIn Python, complex numbers are represented as x+yj. where x is real and y is imaginary\n\n\"\"\"",
      "metadata": {
        "trusted": true
      },
      "execution_count": 42,
      "outputs": [
        {
          "execution_count": 42,
          "output_type": "execute_result",
          "data": {
            "text/plain": "'\\nIn Mathematics complex number is represented by “ x + yi “.\\n\\n\\n'"
          },
          "metadata": {}
        }
      ]
    },
    {
      "cell_type": "code",
      "source": "z = 5+3j\nprint(type(z))\n# Print the parts of Complex No.\nprint(\"The real part of complex number is : \", end=\"\")\nprint(z.real)\n \nprint(\"The imaginary part of complex number is : \", end=\"\")\nprint(z.imag)",
      "metadata": {
        "trusted": true
      },
      "execution_count": 49,
      "outputs": [
        {
          "name": "stdout",
          "text": "<class 'complex'>\nThe real part of complex number is : 5.0\nThe imaginary part of complex number is : 3.0\n",
          "output_type": "stream"
        }
      ]
    },
    {
      "cell_type": "code",
      "source": "#Q7. What is the correct way to declare a variable named age and assign the value 25 to it?",
      "metadata": {},
      "execution_count": null,
      "outputs": []
    },
    {
      "cell_type": "code",
      "source": "age = 25\nprint(age)\nprint(type(age))",
      "metadata": {
        "trusted": true
      },
      "execution_count": 48,
      "outputs": [
        {
          "name": "stdout",
          "text": "25\n<class 'int'>\n",
          "output_type": "stream"
        }
      ]
    },
    {
      "cell_type": "code",
      "source": "#Q8. Declare a variable named price and assign the value 9.99 to it. What data type does this variable belong to?",
      "metadata": {},
      "execution_count": null,
      "outputs": []
    },
    {
      "cell_type": "code",
      "source": "price = 9.99\nprint(type(price))\nprint(price)",
      "metadata": {
        "trusted": true
      },
      "execution_count": 51,
      "outputs": [
        {
          "name": "stdout",
          "text": "<class 'float'>\n9.99\n",
          "output_type": "stream"
        }
      ]
    },
    {
      "cell_type": "code",
      "source": "#Q9. Create a variable named name and assign your full name to it as a string. How would you print the value of this variable?",
      "metadata": {},
      "execution_count": null,
      "outputs": []
    },
    {
      "cell_type": "code",
      "source": "name = \"SHarad DIxit\"\na = name.upper()\nb = name.title()\nc = name.lower()\nd = name.capitalize()\nli = [a,b,c,d]\n\nfor i in li:\n    print(i)",
      "metadata": {
        "trusted": true
      },
      "execution_count": 67,
      "outputs": [
        {
          "name": "stdout",
          "text": "SHARAD DIXIT\nSharad Dixit\nsharad dixit\nSharad dixit\n",
          "output_type": "stream"
        }
      ]
    },
    {
      "cell_type": "code",
      "source": "#Q10. Given the string \"Hello, World!\", extract the substring \"World\".",
      "metadata": {},
      "execution_count": null,
      "outputs": []
    },
    {
      "cell_type": "code",
      "source": "a = \"Hello, World!\"\nprint(a[7:-1])",
      "metadata": {
        "trusted": true
      },
      "execution_count": 70,
      "outputs": [
        {
          "name": "stdout",
          "text": "World\n",
          "output_type": "stream"
        }
      ]
    },
    {
      "cell_type": "code",
      "source": "#Q11. Create a variable named \"is_student\" and assign it a boolean value indicating whether you are currently a student or not.",
      "metadata": {},
      "execution_count": null,
      "outputs": []
    },
    {
      "cell_type": "code",
      "source": "is_student = True\nprint(is_student)",
      "metadata": {
        "trusted": true
      },
      "execution_count": 72,
      "outputs": [
        {
          "name": "stdout",
          "text": "True\n",
          "output_type": "stream"
        }
      ]
    },
    {
      "cell_type": "code",
      "source": "",
      "metadata": {},
      "execution_count": null,
      "outputs": []
    }
  ]
}