{
  "metadata": {
    "language_info": {
      "codemirror_mode": {
        "name": "python",
        "version": 3
      },
      "file_extension": ".py",
      "mimetype": "text/x-python",
      "name": "python",
      "nbconvert_exporter": "python",
      "pygments_lexer": "ipython3",
      "version": "3.8"
    },
    "kernelspec": {
      "name": "python",
      "display_name": "Python (Pyodide)",
      "language": "python"
    }
  },
  "nbformat_minor": 4,
  "nbformat": 4,
  "cells": [
    {
      "cell_type": "code",
      "source": "'''\nQ1. Create one variable containing following type of data:\n(i) string\n(ii) list\n(iii) float\n(iv) tuple\n'''",
      "metadata": {
        "trusted": true
      },
      "execution_count": 2,
      "outputs": [
        {
          "execution_count": 2,
          "output_type": "execute_result",
          "data": {
            "text/plain": "'\\nQ1. Create one variable containing following type of data:\\n(i) string\\n(ii) list\\n(iii) float\\n(iv) tuple\\n'"
          },
          "metadata": {}
        }
      ]
    },
    {
      "cell_type": "code",
      "source": "a=\"A string\"\nlistt=[\"A list\",1,0.45,\"455##\",344,\"abc@abc.com\",'Tuple',(1,2,3,4,5,6),[1,2,3,4,5,6],\"1\"]\nb=55.55\ntuplee=(1,2,3,4,5,6,(1,5,6,7,3))",
      "metadata": {
        "trusted": true
      },
      "execution_count": 7,
      "outputs": []
    },
    {
      "cell_type": "code",
      "source": "'''\nQ2. Given are some following variables containing data:\n(i) var1 = ‘ ‘\n(ii) var2 = ‘[ DS , ML , Python]’\n(iii) var3 = [ ‘DS’ , ’ML’ , ‘Python’ ]\n(iv) var4 = 1.\n'''",
      "metadata": {
        "trusted": true
      },
      "execution_count": 8,
      "outputs": [
        {
          "execution_count": 8,
          "output_type": "execute_result",
          "data": {
            "text/plain": "'\\nQ2. Given are some following variables containing data:\\n(i) var1 = ‘ ‘\\n(ii) var2 = ‘[ DS , ML , Python]’\\n(iii) var3 = [ ‘DS’ , ’ML’ , ‘Python’ ]\\n(iv) var4 = 1.\\n'"
          },
          "metadata": {}
        }
      ]
    },
    {
      "cell_type": "code",
      "source": "var1=''\nvar2='[DS,ML,Python]'\nvar3=['DS','ML','Python']\nvar4 = 1\nl = [var1,var2,var3,var4]\n\nfor i in l:\n    print(type(i))",
      "metadata": {
        "trusted": true
      },
      "execution_count": 9,
      "outputs": [
        {
          "name": "stdout",
          "text": "<class 'str'>\n<class 'str'>\n<class 'list'>\n<class 'int'>\n",
          "output_type": "stream"
        }
      ]
    },
    {
      "cell_type": "code",
      "source": "'''\nQ3. Explain the use of the following operators using an example:\n(i) /\n(ii) %\n(iii) //\n(iv) **\n'''",
      "metadata": {
        "trusted": true
      },
      "execution_count": 10,
      "outputs": [
        {
          "execution_count": 10,
          "output_type": "execute_result",
          "data": {
            "text/plain": "'\\nQ3. Explain the use of the following operators using an example:\\n(i) /\\n(ii) %\\n(iii) //\\n(iv) **\\n'"
          },
          "metadata": {}
        }
      ]
    },
    {
      "cell_type": "code",
      "source": "a=5/4 #Divides\nb=5%2  #Print Remainder\nc=29//3  #print the quotient, floor division\nd=29**2   #raise to the power\nl=[a,b,c,d]\nfor i in l:\n    print(i)",
      "metadata": {
        "trusted": true
      },
      "execution_count": 11,
      "outputs": [
        {
          "name": "stdout",
          "text": "1.25\n1\n9\n841\n",
          "output_type": "stream"
        }
      ]
    },
    {
      "cell_type": "code",
      "source": "'''\nQ4. Create a list of length 10 of your choice containing multiple types of data. Using for loop print the\nelement and its data type.\n'''",
      "metadata": {
        "trusted": true
      },
      "execution_count": 12,
      "outputs": [
        {
          "execution_count": 12,
          "output_type": "execute_result",
          "data": {
            "text/plain": "'\\nQ4. Create a list of length 10 of your choice containing multiple types of data. Using for loop print the\\nelement and its data type.\\n'"
          },
          "metadata": {}
        }
      ]
    },
    {
      "cell_type": "code",
      "source": "listt=[\"A list\",1,0.45,\"455##\",344,\"abc@abc.com\",'Tuple',(1,2,3,4,5,6),[1,2,3,4,5,6],\"1\"]\nfor i in listt:\n    print(i,type(i))",
      "metadata": {
        "trusted": true
      },
      "execution_count": 13,
      "outputs": [
        {
          "name": "stdout",
          "text": "A list <class 'str'>\n1 <class 'int'>\n0.45 <class 'float'>\n455## <class 'str'>\n344 <class 'int'>\nabc@abc.com <class 'str'>\nTuple <class 'str'>\n(1, 2, 3, 4, 5, 6) <class 'tuple'>\n[1, 2, 3, 4, 5, 6] <class 'list'>\n1 <class 'str'>\n",
          "output_type": "stream"
        }
      ]
    },
    {
      "cell_type": "code",
      "source": "'''\nQ5. Using a while loop, verify if the number A is purely divisible by number B and if so then how many\ntimes it can be divisible.\n'''",
      "metadata": {
        "trusted": true
      },
      "execution_count": 14,
      "outputs": [
        {
          "execution_count": 14,
          "output_type": "execute_result",
          "data": {
            "text/plain": "'\\nQ5. Using a while loop, verify if the number A is purely divisible by number B and if so then how many\\ntimes it can be divisible.\\n'"
          },
          "metadata": {}
        }
      ]
    },
    {
      "cell_type": "code",
      "source": "a=300\nb=3\nc=0\n\nif a%b==0:\n    while (a-b)>=0:\n        c=c+1\n        a=a-b\nelse :\n    print(\"not divisible\")\n    \nprint(c)\n",
      "metadata": {
        "trusted": true
      },
      "execution_count": 4,
      "outputs": [
        {
          "name": "stdout",
          "text": "100\n",
          "output_type": "stream"
        }
      ]
    },
    {
      "cell_type": "code",
      "source": "l=range(26)\nfor i in l:\n    if i%3==0:\n        print(i, \"is divisible by 3\")\n    else:\n        print(i, \"is not divisible by 3\")",
      "metadata": {
        "trusted": true
      },
      "execution_count": 8,
      "outputs": [
        {
          "name": "stdout",
          "text": "0 is divisible by 3\n1 is not divisible by 3\n2 is not divisible by 3\n3 is divisible by 3\n4 is not divisible by 3\n5 is not divisible by 3\n6 is divisible by 3\n7 is not divisible by 3\n8 is not divisible by 3\n9 is divisible by 3\n10 is not divisible by 3\n11 is not divisible by 3\n12 is divisible by 3\n13 is not divisible by 3\n14 is not divisible by 3\n15 is divisible by 3\n16 is not divisible by 3\n17 is not divisible by 3\n18 is divisible by 3\n19 is not divisible by 3\n20 is not divisible by 3\n21 is divisible by 3\n22 is not divisible by 3\n23 is not divisible by 3\n24 is divisible by 3\n25 is not divisible by 3\n",
          "output_type": "stream"
        }
      ]
    },
    {
      "cell_type": "code",
      "source": "'''\nQ7. What do you understand about mutable and immutable data types? Give examples for both showing\nthis property.\n'''\nprint(\"An object that allows you to change its values without changing its identity \\nis a mutable object. The changes that you can perform on a mutable object\\’s value are known as mutations.\\nAn object that doesn’t allow changes in its value is an immutable object.\\n\\nList is mutable and Tuple is immutable\")\n",
      "metadata": {
        "trusted": true
      },
      "execution_count": 16,
      "outputs": [
        {
          "name": "stdout",
          "text": "An object that allows you to change its values without changing its identity \nis a mutable object. The changes that you can perform on a mutable object\\’s value are known as mutations.\nAn object that doesn’t allow changes in its value is an immutable object.\n\nList is mutable and Tuple is immutable\n",
          "output_type": "stream"
        }
      ]
    },
    {
      "cell_type": "code",
      "source": "",
      "metadata": {},
      "execution_count": null,
      "outputs": []
    },
    {
      "cell_type": "code",
      "source": "",
      "metadata": {},
      "execution_count": null,
      "outputs": []
    }
  ]
}